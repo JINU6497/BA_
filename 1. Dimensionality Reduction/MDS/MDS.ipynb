{
 "cells": [
  {
   "cell_type": "code",
   "execution_count": 126,
   "metadata": {},
   "outputs": [],
   "source": [
    "\"\"\"Module Import\"\"\"\n",
    "\n",
    "import numpy as np\n",
    "import pandas as pd\n",
    "import random\n",
    "import tqdm\n",
    "from sklearn.datasets import load_iris\n",
    "import matplotlib.pyplot as plt\n"
   ]
  },
  {
   "cell_type": "code",
   "execution_count": 127,
   "metadata": {},
   "outputs": [
    {
     "data": {
      "text/plain": [
       "(150, 5)"
      ]
     },
     "execution_count": 127,
     "metadata": {},
     "output_type": "execute_result"
    }
   ],
   "source": [
    "\"\"\"사용할 테이터 셋 Classification용도로 Iris 데이터 가져옴\"\"\"\n",
    "\n",
    "iris_data = load_iris()\n",
    "df = pd.DataFrame(iris_data.data)\n",
    "df.columns = iris_data['feature_names']\n",
    "df['target'] = iris_data['target']\n",
    "\n",
    "df.shape"
   ]
  },
  {
   "cell_type": "markdown",
   "metadata": {},
   "source": [
    "**Step 1: Construct Proximity/Distacne Matrix**\n",
    "\n",
    "일반적인 데이터를 거리나 유사도 행렬로 변환한다. 이때, $X^{d*n}$ → $D^{n*n}$ 이렇게 변환한다.\n",
    "이때 거리나 유사도 행렬은 항상 0보다 크며, 자신과의 거리는 0이다."
   ]
  },
  {
   "cell_type": "code",
   "execution_count": 128,
   "metadata": {},
   "outputs": [],
   "source": [
    "\"\"\"Step 1: Construct Proximity/Distacne Matrix\"\"\"\n",
    "\n",
    "D_matrix = np.zeros((df.shape[0],df.shape[0]))\n",
    "\n",
    "for i in range(df.shape[0]):\n",
    "    for j in range(df.shape[0]):\n",
    "        # D_matrix[i,j] = np.linalg.norm(df.values[i,:] - df.values[j,:])\n",
    "        D_matrix[i,j] = np.sum(((df.values[i,:]-df.values[j,:])**2))"
   ]
  },
  {
   "cell_type": "markdown",
   "metadata": {},
   "source": [
    "**Step 2: Extract the coordinates that preserve the distance information**\n",
    "\n",
    "\n",
    "Coordinate matrix를 구하기 위한 과정. \n",
    "\n",
    "거리행렬에서 바로 저차원의 데이터로 변환이 불가하기에, inner product B를 계산해야함. 이때, B를 계산하기 위하여 H, A matrix 구한다.\n",
    "\n",
    "이후, B_matrix로부터 Eigen decomposition을 수행하여 Eigen vector를 얻고, 이를 통하여 Diagonal matrix를 계산한다."
   ]
  },
  {
   "cell_type": "code",
   "execution_count": 129,
   "metadata": {},
   "outputs": [],
   "source": [
    "\"\"\"Step 2: Extract the coordinates that preserve the distance information\n",
    "\"\"\"\n",
    "\n",
    "H_matrix = np.identity(n= df.shape[0]) - ((1/df.shape[0])*(np.ones(df.shape[0])).T)\n",
    "\n",
    "A_matrix = (-1/2)*(D_matrix)\n",
    "\n",
    "B_matrix = H_matrix@A_matrix@H_matrix\n",
    "\n",
    "Eigen_value, Eigen_vector = np.linalg.eig(B)\n",
    "\n",
    "diagonal_matrix = Eigen_vector.T@B_matrix@Eigen_vector\n",
    "\n",
    "coordinate_matrix = Eigen_vector@(diagonal_matrix**(1/2))\n"
   ]
  },
  {
   "cell_type": "markdown",
   "metadata": {},
   "source": [
    "**Step 3: Visualizing**"
   ]
  },
  {
   "cell_type": "code",
   "execution_count": 130,
   "metadata": {},
   "outputs": [
    {
     "name": "stderr",
     "output_type": "stream",
     "text": [
      "C:\\Users\\user\\AppData\\Roaming\\Python\\Python39\\site-packages\\matplotlib\\collections.py:200: ComplexWarning: Casting complex values to real discards the imaginary part\n",
      "  offsets = np.asanyarray(offsets, float)\n"
     ]
    },
    {
     "data": {
      "image/png": "[encoded data removed]",
      "text/plain": [
       "<Figure size 504x504 with 1 Axes>"
      ]
     },
     "metadata": {
      "needs_background": "light"
     },
     "output_type": "display_data"
    }
   ],
   "source": [
    "\"\"\"Step 3: Visualizing\"\"\"\n",
    "\n",
    "colors = ['red','green','blue']\n",
    "plt.rcParams['figure.figsize'] = [7, 7]\n",
    "plt.rc('font', size=14)\n",
    "for i in np.unique(iris_data.target):\n",
    "  subset = coordinate_matrix[iris_data.target == i]\n",
    "  \n",
    "  x = [row[0] for row in subset]\n",
    "  y = [row[1] for row in subset]\n",
    "  plt.scatter(x,y,c=colors[i],label=iris_data.target_names[i])\n",
    "plt.legend()\n",
    "plt.show()"
   ]
  }
 ],
 "metadata": {
  "kernelspec": {
   "display_name": "Python 3.9.7 ('JINU_DataAnalysis')",
   "language": "python",
   "name": "python3"
  },
  "language_info": {
   "codemirror_mode": {
    "name": "ipython",
    "version": 3
   },
   "file_extension": ".py",
   "mimetype": "text/x-python",
   "name": "python",
   "nbconvert_exporter": "python",
   "pygments_lexer": "ipython3",
   "version": "3.9.7"
  },
  "orig_nbformat": 4,
  "vscode": {
   "interpreter": {
    "hash": "643d59f2796b23f3748df97f4ca340bc607e41d940545062c96a92516fc3882d"
   }
  }
 },
 "nbformat": 4,
 "nbformat_minor": 2
}
